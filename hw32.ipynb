{
  "cells": [
    {
      "cell_type": "code",
      "execution_count": 28,
      "id": "433fc2f7",
      "metadata": {
        "id": "433fc2f7"
      },
      "outputs": [],
      "source": [
        "import numpy as np\n",
        "import pandas as pd\n",
        "import seaborn as sns\n",
        "from sklearn.linear_model import LogisticRegression\n",
        "from sklearn.preprocessing import StandardScaler\n",
        "\n",
        "sns.set()"
      ]
    },
    {
      "cell_type": "markdown",
      "id": "_YGaTH5YyQ2C",
      "metadata": {
        "id": "_YGaTH5YyQ2C"
      },
      "source": [
        "# Data processing"
      ]
    },
    {
      "cell_type": "code",
      "execution_count": 4,
      "id": "508f8d89",
      "metadata": {
        "id": "508f8d89"
      },
      "outputs": [],
      "source": [
        "pd.set_option(\"max_columns\", 300)"
      ]
    },
    {
      "cell_type": "code",
      "execution_count": 5,
      "id": "e420d95f",
      "metadata": {
        "id": "e420d95f"
      },
      "outputs": [],
      "source": [
        "train = pd.read_csv(\"data/raw/application_train.csv\")\n",
        "test = pd.read_csv(\"data/raw/application_test.csv\")"
      ]
    },
    {
      "cell_type": "code",
      "execution_count": 6,
      "id": "F6oburi5q336",
      "metadata": {
        "id": "F6oburi5q336"
      },
      "outputs": [],
      "source": [
        "fl_col = [var for var in train.columns if \"FLAG\" in var]"
      ]
    },
    {
      "cell_type": "code",
      "execution_count": 7,
      "id": "511c77dd",
      "metadata": {
        "id": "511c77dd"
      },
      "outputs": [],
      "source": [
        "fl_col = [var for var in train.columns if \"FLAG\" in var]\n",
        "\n",
        "train[fl_col] = train[fl_col].agg([lambda x: True if x == \"Y\" else False])\n",
        "test[fl_col] = test[fl_col].agg([lambda x: True if x == \"Y\" else False])"
      ]
    },
    {
      "cell_type": "code",
      "execution_count": 8,
      "id": "9832c22f",
      "metadata": {
        "id": "9832c22f"
      },
      "outputs": [],
      "source": [
        "train[\"AMT_ANNUITY\"].fillna(train[\"AMT_INCOME_TOTAL\"] * 0.2,inplace=True)\n",
        "test[\"AMT_ANNUITY\"].fillna(test[\"AMT_INCOME_TOTAL\"] * 0.2,inplace=True)"
      ]
    },
    {
      "cell_type": "code",
      "execution_count": 10,
      "id": "lqQj5GdKq338",
      "metadata": {
        "id": "lqQj5GdKq338"
      },
      "outputs": [],
      "source": [
        "train['CREDIT_SUB_GOODP'] = train['AMT_GOODS_PRICE'] - train['AMT_CREDIT']"
      ]
    },
    {
      "cell_type": "code",
      "execution_count": 11,
      "id": "C2i1MDTwq338",
      "metadata": {
        "id": "C2i1MDTwq338",
        "outputId": "2eebdb95-ddf4-441b-f443-a8f1cff72506"
      },
      "outputs": [
        {
          "data": {
            "text/plain": [
              "CREDIT_SUB_GOODP    179048.076923\n",
              "TARGET                   0.050000\n",
              "dtype: float64"
            ]
          },
          "execution_count": 11,
          "metadata": {},
          "output_type": "execute_result"
        }
      ],
      "source": [
        "train[['CREDIT_SUB_GOODP',\"TARGET\"]][train['CREDIT_SUB_GOODP'] > 0].mean()"
      ]
    },
    {
      "cell_type": "code",
      "execution_count": 12,
      "id": "95c4dcc7",
      "metadata": {
        "id": "95c4dcc7"
      },
      "outputs": [],
      "source": [
        "train['CREDIT_REL_SIZE'] = train['AMT_CREDIT'] / train['AMT_INCOME_TOTAL']\n",
        "train['ANNUITY_DIV_INCOME'] = train['AMT_ANNUITY'] / train['AMT_INCOME_TOTAL']\n",
        "train['PAY_YEARS'] = train['AMT_CREDIT'] / train['AMT_ANNUITY'] # pay years\n",
        "train['CREDIT_SUB_GOODP'] = train['AMT_GOODS_PRICE'] - train['AMT_CREDIT']\n",
        "train['CAR_EXPENSES'] = train['FLAG_OWN_CAR'] * 5_000\n",
        "train['FREE_MONEY'] = train['AMT_INCOME_TOTAL'] - train['CAR_EXPENSES'] - train['AMT_ANNUITY']"
      ]
    },
    {
      "cell_type": "code",
      "execution_count": 13,
      "id": "5e84e165",
      "metadata": {
        "id": "5e84e165"
      },
      "outputs": [],
      "source": [
        "test['CREDIT_REL_SIZE'] = test['AMT_CREDIT'] / test['AMT_INCOME_TOTAL']\n",
        "test['ANNUITY_DIV_INCOME'] = test['AMT_ANNUITY'] / test['AMT_INCOME_TOTAL']\n",
        "test['PAY_YEARS'] = test['AMT_CREDIT'] / test['AMT_ANNUITY'] # pay years\n",
        "test['CREDIT_SUB_GOODP'] = test['AMT_GOODS_PRICE'] - test['AMT_CREDIT']\n",
        "test['CAR_EXPENSES'] = test['FLAG_OWN_CAR'] * 5_000 \n",
        "test['FREE_MONEY'] = test['AMT_INCOME_TOTAL'] - test['CAR_EXPENSES'] - test['AMT_ANNUITY']"
      ]
    },
    {
      "cell_type": "code",
      "execution_count": 14,
      "id": "8be1efae",
      "metadata": {
        "id": "8be1efae"
      },
      "outputs": [],
      "source": [
        "car_age_median = train[\"OWN_CAR_AGE\"].median()\n",
        "\n",
        "train[\"OWN_CAR_AGE\"].fillna(car_age_median, inplace=True)\n",
        "test[\"OWN_CAR_AGE\"].fillna(car_age_median, inplace=True)\n",
        "\n",
        "ext1_median = train[\"EXT_SOURCE_1\"].median()\n",
        "ext2_median = train[\"EXT_SOURCE_2\"].median()\n",
        "ext3_median = train[\"EXT_SOURCE_3\"].median()\n",
        "\n",
        "train[\"EXT_SOURCE_1\"].fillna(ext1_median, inplace=True)\n",
        "train[\"EXT_SOURCE_2\"].fillna(ext2_median, inplace=True)\n",
        "train[\"EXT_SOURCE_3\"].fillna(ext3_median, inplace=True)\n",
        "\n",
        "test[\"EXT_SOURCE_1\"].fillna(ext1_median, inplace=True)\n",
        "test[\"EXT_SOURCE_2\"].fillna(ext2_median, inplace=True)\n",
        "test[\"EXT_SOURCE_3\"].fillna(ext3_median, inplace=True)"
      ]
    },
    {
      "cell_type": "code",
      "execution_count": 15,
      "id": "eFsSRkwdq33-",
      "metadata": {
        "id": "eFsSRkwdq33-"
      },
      "outputs": [],
      "source": [
        "train['CREDIT_SUB_GOODP'].fillna(train['CREDIT_SUB_GOODP'].median(), inplace=True)\n",
        "test['CREDIT_SUB_GOODP'].fillna(train['CREDIT_SUB_GOODP'].median(), inplace=True)"
      ]
    },
    {
      "cell_type": "code",
      "execution_count": 16,
      "id": "5f32d87a",
      "metadata": {
        "id": "5f32d87a"
      },
      "outputs": [],
      "source": [
        "def standartization(df, col, mn, st):\n",
        "    df[col] = (df[col] - mn) / st\n",
        "    \n",
        "    return df\n",
        "\n",
        "col_mean = train['CREDIT_REL_SIZE'].mean()\n",
        "col_std = train['CREDIT_REL_SIZE'].std()\n",
        "train = standartization(train, 'CREDIT_REL_SIZE', col_mean, col_std)\n",
        "test = standartization(test, 'CREDIT_REL_SIZE', col_mean, col_std)\n",
        "\n",
        "col_mean = train['ANNUITY_DIV_INCOME'].mean()\n",
        "col_std = train['ANNUITY_DIV_INCOME'].std()\n",
        "train = standartization(train, 'ANNUITY_DIV_INCOME', col_mean, col_std)\n",
        "test = standartization(test, 'ANNUITY_DIV_INCOME', col_mean, col_std)\n",
        "\n",
        "col_mean = train['PAY_YEARS'].mean()\n",
        "col_std = train['PAY_YEARS'].std()\n",
        "train = standartization(train, 'PAY_YEARS', col_mean, col_std)\n",
        "test = standartization(test, 'PAY_YEARS', col_mean, col_std)\n",
        "\n",
        "col_mean = train['FREE_MONEY'].mean()\n",
        "col_std = train['FREE_MONEY'].std()\n",
        "train = standartization(train, 'FREE_MONEY', col_mean, col_std)\n",
        "test = standartization(test, 'FREE_MONEY', col_mean, col_std)\n",
        "\n",
        "col_mean = train['DAYS_EMPLOYED'].mean()\n",
        "col_std = train['DAYS_EMPLOYED'].std()\n",
        "train = standartization(train, 'DAYS_EMPLOYED', col_mean, col_std)\n",
        "test = standartization(test, 'DAYS_EMPLOYED', col_mean, col_std)\n",
        "\n",
        "col_mean = train['DAYS_REGISTRATION'].mean()\n",
        "col_std = train['DAYS_REGISTRATION'].std()\n",
        "train = standartization(train, 'DAYS_REGISTRATION', col_mean, col_std)\n",
        "test = standartization(test, 'DAYS_REGISTRATION', col_mean, col_std)\n",
        "\n",
        "col_mean = train['OWN_CAR_AGE'].mean()\n",
        "col_std = train['OWN_CAR_AGE'].std()\n",
        "train = standartization(train, 'OWN_CAR_AGE', col_mean, col_std)\n",
        "test = standartization(test, 'OWN_CAR_AGE', col_mean, col_std)\n",
        "\n",
        "\n",
        "col_mean = train['CREDIT_SUB_GOODP'].mean()\n",
        "col_std = train['CREDIT_SUB_GOODP'].std()\n",
        "train = standartization(train, 'CREDIT_SUB_GOODP', col_mean, col_std)\n",
        "test = standartization(test, 'CREDIT_SUB_GOODP', col_mean, col_std)"
      ]
    },
    {
      "cell_type": "code",
      "execution_count": 17,
      "id": "4a7e9fb6",
      "metadata": {
        "id": "4a7e9fb6"
      },
      "outputs": [],
      "source": [
        "x_cols = ['CREDIT_REL_SIZE', 'ANNUITY_DIV_INCOME', 'PAY_YEARS', 'FREE_MONEY','DAYS_EMPLOYED', 'DAYS_REGISTRATION', 'OWN_CAR_AGE', 'EXT_SOURCE_1', 'EXT_SOURCE_2', 'EXT_SOURCE_3','CREDIT_SUB_GOODP']"
      ]
    },
    {
      "cell_type": "code",
      "execution_count": null,
      "id": "RKOc8dAq4hVI",
      "metadata": {
        "id": "RKOc8dAq4hVI"
      },
      "outputs": [],
      "source": []
    },
    {
      "cell_type": "markdown",
      "id": "R7tw340-4lhB",
      "metadata": {
        "id": "R7tw340-4lhB"
      },
      "source": [
        "# Stacking"
      ]
    },
    {
      "cell_type": "code",
      "execution_count": 18,
      "id": "N1Y_LG40fe-h",
      "metadata": {
        "id": "N1Y_LG40fe-h"
      },
      "outputs": [],
      "source": [
        "from sklearn.ensemble import RandomForestClassifier\n",
        "from sklearn.linear_model import LogisticRegression\n",
        "from catboost import CatBoostClassifier\n",
        "from sklearn.ensemble import StackingClassifier\n",
        "\n",
        "from sklearn.model_selection import KFold\n",
        "from sklearn.metrics import roc_auc_score, log_loss"
      ]
    },
    {
      "cell_type": "code",
      "execution_count": 19,
      "id": "6qmhZGPu3rqs",
      "metadata": {
        "id": "6qmhZGPu3rqs"
      },
      "outputs": [],
      "source": [
        "def crossValidation(df, x_col, y_col, cvModel, debag=False, **kwargs):\n",
        "    logList = []\n",
        "    aucList = []\n",
        "    i = 1\n",
        "\n",
        "    kf = KFold(n_splits=5, shuffle=True, random_state=42)\n",
        "    for train_idx, val_idx in kf.split(df):\n",
        "        train_part = df.loc[train_idx, :]\n",
        "        val_part = df.loc[val_idx, :]\n",
        "\n",
        "        model = cvModel(random_state=i, **kwargs)\n",
        "        model.fit(X=train_part[x_col], y=train_part[y_col])\n",
        "        val_pred = model.predict_proba(val_part[x_col])\n",
        "\n",
        "        logloss_val = log_loss(val_part[y_col], val_pred)\n",
        "        auc_val = roc_auc_score(val_part[y_col], val_pred[:, 1])\n",
        "\n",
        "        logList.append(logloss_val)\n",
        "        aucList.append(auc_val)\n",
        "\n",
        "        if not debag:\n",
        "            print(f'Fold: {i}, AUC: {auc_val}, LOSS: {logloss_val}')\n",
        "        i += 1\n",
        "    if not debag:\n",
        "        print(f'AV_AUC: {np.mean(aucList)}, AV_LOGLOSS: {np.mean(logList)}')\n",
        "\n",
        "    return np.mean(aucList)"
      ]
    },
    {
      "cell_type": "markdown",
      "id": "oR7fOmDbjYnJ",
      "metadata": {
        "id": "oR7fOmDbjYnJ"
      },
      "source": [
        "### Случайный лес"
      ]
    },
    {
      "cell_type": "code",
      "execution_count": 20,
      "id": "qww_nTAdjmJf",
      "metadata": {
        "id": "qww_nTAdjmJf"
      },
      "outputs": [],
      "source": [
        "rfc = RandomForestClassifier(n_estimators=5, random_state=42)"
      ]
    },
    {
      "cell_type": "code",
      "execution_count": 21,
      "id": "pKEISxsrmmVz",
      "metadata": {
        "colab": {
          "base_uri": "https://localhost:8080/"
        },
        "id": "pKEISxsrmmVz",
        "outputId": "cd10c8a4-5291-4393-e1be-88cc569fa2d8"
      },
      "outputs": [
        {
          "name": "stdout",
          "output_type": "stream",
          "text": [
            "Fold: 1, AUC: 0.6182202415552809, LOSS: 1.4774948635945355\n",
            "Fold: 2, AUC: 0.6125957720509214, LOSS: 1.5077271767734293\n",
            "Fold: 3, AUC: 0.6135156998426794, LOSS: 1.5411311387715594\n",
            "Fold: 4, AUC: 0.6109880899532014, LOSS: 1.5038289935523392\n",
            "Fold: 5, AUC: 0.6094975862106257, LOSS: 1.5183719189471798\n",
            "AV_AUC: 0.6129634779225417, AV_LOGLOSS: 1.5097108183278087\n"
          ]
        },
        {
          "data": {
            "text/plain": [
              "0.6129634779225417"
            ]
          },
          "execution_count": 21,
          "metadata": {},
          "output_type": "execute_result"
        }
      ],
      "source": [
        "crossValidation(train, x_cols, 'TARGET', RandomForestClassifier, n_estimators=5)"
      ]
    },
    {
      "cell_type": "markdown",
      "id": "ic3wg8o-jbNy",
      "metadata": {
        "id": "ic3wg8o-jbNy"
      },
      "source": [
        "### Логистическая регрессия 1"
      ]
    },
    {
      "cell_type": "code",
      "execution_count": 36,
      "id": "jaADtxagjmyH",
      "metadata": {
        "id": "jaADtxagjmyH"
      },
      "outputs": [],
      "source": [
        "logreg1 = LogisticRegression(penalty='l1',\n",
        "                                class_weight='balanced',solver='liblinear')"
      ]
    },
    {
      "cell_type": "code",
      "execution_count": 37,
      "id": "teb1dNgWmm4M",
      "metadata": {
        "colab": {
          "base_uri": "https://localhost:8080/"
        },
        "id": "teb1dNgWmm4M",
        "outputId": "c0fe6bc3-92d9-41fb-bc19-eac549d86f8d"
      },
      "outputs": [
        {
          "name": "stdout",
          "output_type": "stream",
          "text": [
            "Fold: 1, AUC: 0.728037936594313, LOSS: 0.6125242184884194\n",
            "Fold: 2, AUC: 0.7279082084400457, LOSS: 0.6116663469003826\n",
            "Fold: 3, AUC: 0.7256648811319947, LOSS: 0.6111431671004819\n",
            "Fold: 4, AUC: 0.7228632494522054, LOSS: 0.6104076414451772\n",
            "Fold: 5, AUC: 0.7261002472740659, LOSS: 0.6113319870104337\n",
            "AV_AUC: 0.7261149045785249, AV_LOGLOSS: 0.6114146721889789\n"
          ]
        },
        {
          "data": {
            "text/plain": [
              "0.7261149045785249"
            ]
          },
          "execution_count": 37,
          "metadata": {},
          "output_type": "execute_result"
        }
      ],
      "source": [
        "crossValidation(train, x_cols, 'TARGET', LogisticRegression, penalty='l1',\n",
        "                                class_weight='balanced',solver='liblinear')"
      ]
    },
    {
      "cell_type": "markdown",
      "id": "itx9qusFjhVl",
      "metadata": {
        "id": "itx9qusFjhVl"
      },
      "source": [
        "### Логистическая регрессия 2"
      ]
    },
    {
      "cell_type": "code",
      "execution_count": 38,
      "id": "HDX0W-1rjorR",
      "metadata": {
        "id": "HDX0W-1rjorR"
      },
      "outputs": [],
      "source": [
        "logreg2 = LogisticRegression(penalty='l2',\n",
        "                                class_weight='balanced',\n",
        "                                C=0.2)"
      ]
    },
    {
      "cell_type": "code",
      "execution_count": 39,
      "id": "FFJ0m5oPoca3",
      "metadata": {
        "colab": {
          "base_uri": "https://localhost:8080/"
        },
        "id": "FFJ0m5oPoca3",
        "outputId": "0ed5f1b0-a792-47e3-bca3-d3981eba2fe8"
      },
      "outputs": [
        {
          "name": "stdout",
          "output_type": "stream",
          "text": [
            "Fold: 1, AUC: 0.7280393514573622, LOSS: 0.6125059996924037\n",
            "Fold: 2, AUC: 0.7279052398952158, LOSS: 0.6116653310104097\n",
            "Fold: 3, AUC: 0.7256641487265703, LOSS: 0.6111381086319656\n",
            "Fold: 4, AUC: 0.7228657606517952, LOSS: 0.6104064247546546\n",
            "Fold: 5, AUC: 0.7261043531382836, LOSS: 0.6113347133550744\n",
            "AV_AUC: 0.7261157707738454, AV_LOGLOSS: 0.6114101154889016\n"
          ]
        },
        {
          "data": {
            "text/plain": [
              "0.7261157707738454"
            ]
          },
          "execution_count": 39,
          "metadata": {},
          "output_type": "execute_result"
        }
      ],
      "source": [
        "crossValidation(train, x_cols, 'TARGET', LogisticRegression, penalty='l2',\n",
        "                                class_weight='balanced',\n",
        "                                C=0.2)"
      ]
    },
    {
      "cell_type": "markdown",
      "id": "36Esu1Xdjdu-",
      "metadata": {
        "id": "36Esu1Xdjdu-"
      },
      "source": [
        "### CatBoost 1"
      ]
    },
    {
      "cell_type": "code",
      "execution_count": 40,
      "id": "Xhf1PulEkPfG",
      "metadata": {
        "id": "Xhf1PulEkPfG"
      },
      "outputs": [],
      "source": [
        "params1 = {'depth': 3, 'l2_leaf_reg': 2, 'learning_rate': 0.5}"
      ]
    },
    {
      "cell_type": "code",
      "execution_count": 51,
      "id": "LRUWcfY9jnm2",
      "metadata": {
        "id": "LRUWcfY9jnm2"
      },
      "outputs": [],
      "source": [
        "cboost1 = CatBoostClassifier(**params1,\n",
        "                iterations=50, random_seed=42, logging_level='Silent')"
      ]
    },
    {
      "cell_type": "code",
      "execution_count": 52,
      "id": "QVvNTqmcmnqn",
      "metadata": {
        "colab": {
          "base_uri": "https://localhost:8080/"
        },
        "id": "QVvNTqmcmnqn",
        "outputId": "3627fa44-c2c9-4a2b-8dbf-477b7c965820"
      },
      "outputs": [
        {
          "name": "stdout",
          "output_type": "stream",
          "text": [
            "Fold: 1, AUC: 0.7540672006926712, LOSS: 0.24697885651925353\n",
            "Fold: 2, AUC: 0.7532037715702247, LOSS: 0.2469967606020549\n",
            "Fold: 3, AUC: 0.7520385336629576, LOSS: 0.2520959544951597\n",
            "Fold: 4, AUC: 0.7493907260541662, LOSS: 0.24636518703175972\n",
            "Fold: 5, AUC: 0.7516036800496809, LOSS: 0.24772944992508583\n",
            "AV_AUC: 0.75206078240594, AV_LOGLOSS: 0.24803324171466273\n"
          ]
        },
        {
          "data": {
            "text/plain": [
              "0.75206078240594"
            ]
          },
          "execution_count": 52,
          "metadata": {},
          "output_type": "execute_result"
        }
      ],
      "source": [
        "crossValidation(train, x_cols, 'TARGET', CatBoostClassifier, iterations=50, logging_level='Silent', **params1)"
      ]
    },
    {
      "cell_type": "markdown",
      "id": "AsAChempjfj7",
      "metadata": {
        "id": "AsAChempjfj7"
      },
      "source": [
        "### CatBoost 2"
      ]
    },
    {
      "cell_type": "code",
      "execution_count": 55,
      "id": "4UXCyauSkuSY",
      "metadata": {
        "id": "4UXCyauSkuSY"
      },
      "outputs": [],
      "source": [
        "params2 = {'depth': 10.0, 'l2_leaf_reg': 1.0, 'learning_rate': 0.3013830452079781}"
      ]
    },
    {
      "cell_type": "code",
      "execution_count": 56,
      "id": "0OG55b_BjoL-",
      "metadata": {
        "id": "0OG55b_BjoL-"
      },
      "outputs": [],
      "source": [
        "cboost2 = CatBoostClassifier(**params2,\n",
        "                iterations=50, random_seed=42, logging_level='Silent')"
      ]
    },
    {
      "cell_type": "code",
      "execution_count": 57,
      "id": "RNsRmnkkmoIy",
      "metadata": {
        "colab": {
          "base_uri": "https://localhost:8080/"
        },
        "id": "RNsRmnkkmoIy",
        "outputId": "10e344fd-885e-4c24-ca9e-83535089e41e"
      },
      "outputs": [
        {
          "name": "stdout",
          "output_type": "stream",
          "text": [
            "Fold: 1, AUC: 0.7505386966008623, LOSS: 0.2480650118050493\n",
            "Fold: 2, AUC: 0.7506552901572633, LOSS: 0.24796587494801398\n",
            "Fold: 3, AUC: 0.7471726500004674, LOSS: 0.2536908762567409\n",
            "Fold: 4, AUC: 0.7446106702448629, LOSS: 0.24779626365069513\n",
            "Fold: 5, AUC: 0.7462448346041322, LOSS: 0.24962404094372911\n",
            "AV_AUC: 0.7478444283215178, AV_LOGLOSS: 0.2494284135208457\n"
          ]
        },
        {
          "data": {
            "text/plain": [
              "0.7478444283215178"
            ]
          },
          "execution_count": 57,
          "metadata": {},
          "output_type": "execute_result"
        }
      ],
      "source": [
        "crossValidation(train, x_cols, 'TARGET', CatBoostClassifier, iterations=50, logging_level='Silent', **params2)"
      ]
    },
    {
      "cell_type": "markdown",
      "id": "x2w9wjj4jpE2",
      "metadata": {
        "id": "x2w9wjj4jpE2"
      },
      "source": [
        "### Stacking"
      ]
    },
    {
      "cell_type": "code",
      "execution_count": 58,
      "id": "vjIH3e8ggD7v",
      "metadata": {
        "id": "vjIH3e8ggD7v"
      },
      "outputs": [],
      "source": [
        "X, y = train[x_cols], train[\"TARGET\"]\n",
        "\n",
        "estimators = [\n",
        "    ('rf', rfc),\n",
        "    ('logreg1', logreg1),\n",
        "    ('logreg2', logreg2),\n",
        "    ('cboost1', cboost1), \n",
        "    ('cboost2', cboost2),\n",
        "]\n",
        "\n",
        "clf = StackingClassifier(\n",
        "    estimators=estimators, final_estimator=LogisticRegression()\n",
        ")\n",
        "\n",
        "y_score = clf.fit(X, y).predict_proba(test[x_cols])\n",
        "sub = pd.read_csv(\"data/raw/sample_submission.csv\")\n",
        "sub['TARGET'] = y_score[:, 1]\n",
        "sub.to_csv(\"stacking_1.csv\", index=False)"
      ]
    },
    {
      "cell_type": "markdown",
      "id": "PocH_n9RoV2z",
      "metadata": {
        "id": "PocH_n9RoV2z"
      },
      "source": [
        "<b>SUBMISSION SCORE: 0.74419</b>"
      ]
    },
    {
      "cell_type": "markdown",
      "id": "l4di_V1_jsD3",
      "metadata": {
        "id": "l4di_V1_jsD3"
      },
      "source": [
        "### Убираем лучшую модель"
      ]
    },
    {
      "cell_type": "code",
      "execution_count": 59,
      "id": "EUpE-28Wj1Rz",
      "metadata": {
        "colab": {
          "base_uri": "https://localhost:8080/"
        },
        "id": "EUpE-28Wj1Rz",
        "outputId": "ab49ad1a-ee29-4e08-9a40-b91628b6bb95"
      },
      "outputs": [],
      "source": [
        "X, y = train[x_cols], train[\"TARGET\"]\n",
        "\n",
        "estimators = [\n",
        "    ('rf', rfc),\n",
        "    ('logreg1', logreg1),\n",
        "    ('logreg2', logreg2),\n",
        "    ('cboost2', cboost2),\n",
        "]\n",
        "\n",
        "clf = StackingClassifier(\n",
        "    estimators=estimators, final_estimator=LogisticRegression()\n",
        ")\n",
        "\n",
        "y_score = clf.fit(X, y).predict_proba(test[x_cols])\n",
        "sub = pd.read_csv(\"data/raw/sample_submission.csv\")\n",
        "sub['TARGET'] = y_score[:, 1]\n",
        "sub.to_csv(\"stacking_2.csv\", index=False)"
      ]
    },
    {
      "cell_type": "markdown",
      "id": "BzNlcNMuuP4c",
      "metadata": {
        "id": "BzNlcNMuuP4c"
      },
      "source": [
        "<b>SUBMISSION SCORE: 0.74068</b>"
      ]
    },
    {
      "cell_type": "markdown",
      "id": "AkwiczFjQk3y",
      "metadata": {
        "id": "AkwiczFjQk3y"
      },
      "source": [
        "### Results"
      ]
    },
    {
      "cell_type": "markdown",
      "id": "FI9A-XYxj5Ai",
      "metadata": {
        "id": "FI9A-XYxj5Ai"
      },
      "source": [
        "После исключения самой лучшей модели результаты снизелся на 0.04. \n",
        "Значительное ухудшение работы модели, на фоне каждой модели по отдельности"
      ]
    }
  ],
  "metadata": {
    "colab": {
      "name": "hw32",
      "provenance": []
    },
    "interpreter": {
      "hash": "aee8b7b246df8f9039afb4144a1f6fd8d2ca17a180786b69acc140d282b71a49"
    },
    "kernelspec": {
      "display_name": "Python 3.9.7 64-bit",
      "name": "python3"
    },
    "language_info": {
      "codemirror_mode": {
        "name": "ipython",
        "version": 3
      },
      "file_extension": ".py",
      "mimetype": "text/x-python",
      "name": "python",
      "nbconvert_exporter": "python",
      "pygments_lexer": "ipython3",
      "version": "3.9.7"
    }
  },
  "nbformat": 4,
  "nbformat_minor": 5
}
