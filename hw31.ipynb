{
  "cells": [
    {
      "cell_type": "code",
      "execution_count": 1,
      "id": "433fc2f7",
      "metadata": {
        "id": "433fc2f7"
      },
      "outputs": [],
      "source": [
        "import numpy as np\n",
        "import pandas as pd\n",
        "import seaborn as sns\n",
        "from sklearn.linear_model import LogisticRegression\n",
        "from sklearn.preprocessing import StandardScaler\n",
        "\n",
        "sns.set()"
      ]
    },
    {
      "cell_type": "markdown",
      "id": "_YGaTH5YyQ2C",
      "metadata": {
        "id": "_YGaTH5YyQ2C"
      },
      "source": [
        "# Data processing"
      ]
    },
    {
      "cell_type": "code",
      "execution_count": 2,
      "id": "508f8d89",
      "metadata": {
        "id": "508f8d89"
      },
      "outputs": [],
      "source": [
        "pd.set_option(\"max_columns\", 300)"
      ]
    },
    {
      "cell_type": "code",
      "execution_count": 3,
      "id": "e420d95f",
      "metadata": {
        "id": "e420d95f"
      },
      "outputs": [],
      "source": [
        "train = pd.read_csv(\"data/raw/application_train.csv\")\n",
        "test = pd.read_csv(\"data/raw/application_test.csv\")"
      ]
    },
    {
      "cell_type": "code",
      "execution_count": 4,
      "id": "F6oburi5q336",
      "metadata": {
        "id": "F6oburi5q336"
      },
      "outputs": [],
      "source": [
        "fl_col = [var for var in train.columns if \"FLAG\" in var]"
      ]
    },
    {
      "cell_type": "code",
      "execution_count": 5,
      "id": "511c77dd",
      "metadata": {
        "id": "511c77dd"
      },
      "outputs": [],
      "source": [
        "fl_col = [var for var in train.columns if \"FLAG\" in var]\n",
        "\n",
        "train[fl_col] = train[fl_col].agg([lambda x: True if x == \"Y\" else False])\n",
        "test[fl_col] = test[fl_col].agg([lambda x: True if x == \"Y\" else False])"
      ]
    },
    {
      "cell_type": "code",
      "execution_count": 6,
      "id": "9832c22f",
      "metadata": {
        "id": "9832c22f"
      },
      "outputs": [],
      "source": [
        "train[\"AMT_ANNUITY\"].fillna(train[\"AMT_INCOME_TOTAL\"] * 0.2,inplace=True)\n",
        "test[\"AMT_ANNUITY\"].fillna(test[\"AMT_INCOME_TOTAL\"] * 0.2,inplace=True)"
      ]
    },
    {
      "cell_type": "code",
      "execution_count": 7,
      "id": "lqQj5GdKq338",
      "metadata": {
        "id": "lqQj5GdKq338"
      },
      "outputs": [],
      "source": [
        "train['CREDIT_SUB_GOODP'] = train['AMT_GOODS_PRICE'] - train['AMT_CREDIT']"
      ]
    },
    {
      "cell_type": "code",
      "execution_count": 8,
      "id": "C2i1MDTwq338",
      "metadata": {
        "id": "C2i1MDTwq338",
        "outputId": "2eebdb95-ddf4-441b-f443-a8f1cff72506"
      },
      "outputs": [
        {
          "data": {
            "text/plain": [
              "CREDIT_SUB_GOODP    179048.076923\n",
              "TARGET                   0.050000\n",
              "dtype: float64"
            ]
          },
          "execution_count": 8,
          "metadata": {},
          "output_type": "execute_result"
        }
      ],
      "source": [
        "train[['CREDIT_SUB_GOODP',\"TARGET\"]][train['CREDIT_SUB_GOODP'] > 0].mean()"
      ]
    },
    {
      "cell_type": "code",
      "execution_count": 9,
      "id": "95c4dcc7",
      "metadata": {
        "id": "95c4dcc7"
      },
      "outputs": [],
      "source": [
        "train['CREDIT_REL_SIZE'] = train['AMT_CREDIT'] / train['AMT_INCOME_TOTAL']\n",
        "train['ANNUITY_DIV_INCOME'] = train['AMT_ANNUITY'] / train['AMT_INCOME_TOTAL']\n",
        "train['PAY_YEARS'] = train['AMT_CREDIT'] / train['AMT_ANNUITY'] # pay years\n",
        "train['CREDIT_SUB_GOODP'] = train['AMT_GOODS_PRICE'] - train['AMT_CREDIT']\n",
        "train['CAR_EXPENSES'] = train['FLAG_OWN_CAR'] * 5_000\n",
        "train['FREE_MONEY'] = train['AMT_INCOME_TOTAL'] - train['CAR_EXPENSES'] - train['AMT_ANNUITY']"
      ]
    },
    {
      "cell_type": "code",
      "execution_count": 10,
      "id": "5e84e165",
      "metadata": {
        "id": "5e84e165"
      },
      "outputs": [],
      "source": [
        "test['CREDIT_REL_SIZE'] = test['AMT_CREDIT'] / test['AMT_INCOME_TOTAL']\n",
        "test['ANNUITY_DIV_INCOME'] = test['AMT_ANNUITY'] / test['AMT_INCOME_TOTAL']\n",
        "test['PAY_YEARS'] = test['AMT_CREDIT'] / test['AMT_ANNUITY'] # pay years\n",
        "test['CREDIT_SUB_GOODP'] = test['AMT_GOODS_PRICE'] - test['AMT_CREDIT']\n",
        "test['CAR_EXPENSES'] = test['FLAG_OWN_CAR'] * 5_000 \n",
        "test['FREE_MONEY'] = test['AMT_INCOME_TOTAL'] - test['CAR_EXPENSES'] - test['AMT_ANNUITY']"
      ]
    },
    {
      "cell_type": "code",
      "execution_count": 11,
      "id": "8be1efae",
      "metadata": {
        "id": "8be1efae"
      },
      "outputs": [],
      "source": [
        "car_age_median = train[\"OWN_CAR_AGE\"].median()\n",
        "\n",
        "train[\"OWN_CAR_AGE\"].fillna(car_age_median, inplace=True)\n",
        "test[\"OWN_CAR_AGE\"].fillna(car_age_median, inplace=True)\n",
        "\n",
        "ext1_median = train[\"EXT_SOURCE_1\"].median()\n",
        "ext2_median = train[\"EXT_SOURCE_2\"].median()\n",
        "ext3_median = train[\"EXT_SOURCE_3\"].median()\n",
        "\n",
        "train[\"EXT_SOURCE_1\"].fillna(ext1_median, inplace=True)\n",
        "train[\"EXT_SOURCE_2\"].fillna(ext2_median, inplace=True)\n",
        "train[\"EXT_SOURCE_3\"].fillna(ext3_median, inplace=True)\n",
        "\n",
        "test[\"EXT_SOURCE_1\"].fillna(ext1_median, inplace=True)\n",
        "test[\"EXT_SOURCE_2\"].fillna(ext2_median, inplace=True)\n",
        "test[\"EXT_SOURCE_3\"].fillna(ext3_median, inplace=True)"
      ]
    },
    {
      "cell_type": "code",
      "execution_count": 12,
      "id": "eFsSRkwdq33-",
      "metadata": {
        "id": "eFsSRkwdq33-"
      },
      "outputs": [],
      "source": [
        "train['CREDIT_SUB_GOODP'].fillna(train['CREDIT_SUB_GOODP'].median(), inplace=True)\n",
        "test['CREDIT_SUB_GOODP'].fillna(train['CREDIT_SUB_GOODP'].median(), inplace=True)"
      ]
    },
    {
      "cell_type": "code",
      "execution_count": 13,
      "id": "5f32d87a",
      "metadata": {
        "id": "5f32d87a"
      },
      "outputs": [],
      "source": [
        "def standartization(df, col, mn, st):\n",
        "    df[col] = (df[col] - mn) / st\n",
        "    \n",
        "    return df\n",
        "\n",
        "col_mean = train['CREDIT_REL_SIZE'].mean()\n",
        "col_std = train['CREDIT_REL_SIZE'].std()\n",
        "train = standartization(train, 'CREDIT_REL_SIZE', col_mean, col_std)\n",
        "test = standartization(test, 'CREDIT_REL_SIZE', col_mean, col_std)\n",
        "\n",
        "col_mean = train['ANNUITY_DIV_INCOME'].mean()\n",
        "col_std = train['ANNUITY_DIV_INCOME'].std()\n",
        "train = standartization(train, 'ANNUITY_DIV_INCOME', col_mean, col_std)\n",
        "test = standartization(test, 'ANNUITY_DIV_INCOME', col_mean, col_std)\n",
        "\n",
        "col_mean = train['PAY_YEARS'].mean()\n",
        "col_std = train['PAY_YEARS'].std()\n",
        "train = standartization(train, 'PAY_YEARS', col_mean, col_std)\n",
        "test = standartization(test, 'PAY_YEARS', col_mean, col_std)\n",
        "\n",
        "col_mean = train['FREE_MONEY'].mean()\n",
        "col_std = train['FREE_MONEY'].std()\n",
        "train = standartization(train, 'FREE_MONEY', col_mean, col_std)\n",
        "test = standartization(test, 'FREE_MONEY', col_mean, col_std)\n",
        "\n",
        "col_mean = train['DAYS_EMPLOYED'].mean()\n",
        "col_std = train['DAYS_EMPLOYED'].std()\n",
        "train = standartization(train, 'DAYS_EMPLOYED', col_mean, col_std)\n",
        "test = standartization(test, 'DAYS_EMPLOYED', col_mean, col_std)\n",
        "\n",
        "col_mean = train['DAYS_REGISTRATION'].mean()\n",
        "col_std = train['DAYS_REGISTRATION'].std()\n",
        "train = standartization(train, 'DAYS_REGISTRATION', col_mean, col_std)\n",
        "test = standartization(test, 'DAYS_REGISTRATION', col_mean, col_std)\n",
        "\n",
        "col_mean = train['OWN_CAR_AGE'].mean()\n",
        "col_std = train['OWN_CAR_AGE'].std()\n",
        "train = standartization(train, 'OWN_CAR_AGE', col_mean, col_std)\n",
        "test = standartization(test, 'OWN_CAR_AGE', col_mean, col_std)\n",
        "\n",
        "\n",
        "col_mean = train['CREDIT_SUB_GOODP'].mean()\n",
        "col_std = train['CREDIT_SUB_GOODP'].std()\n",
        "train = standartization(train, 'CREDIT_SUB_GOODP', col_mean, col_std)\n",
        "test = standartization(test, 'CREDIT_SUB_GOODP', col_mean, col_std)"
      ]
    },
    {
      "cell_type": "code",
      "execution_count": 14,
      "id": "4a7e9fb6",
      "metadata": {
        "id": "4a7e9fb6"
      },
      "outputs": [],
      "source": [
        "x_cols = ['CREDIT_REL_SIZE', 'ANNUITY_DIV_INCOME', 'PAY_YEARS', 'FREE_MONEY','DAYS_EMPLOYED', 'DAYS_REGISTRATION', 'OWN_CAR_AGE', 'EXT_SOURCE_1', 'EXT_SOURCE_2', 'EXT_SOURCE_3','CREDIT_SUB_GOODP']"
      ]
    },
    {
      "cell_type": "markdown",
      "id": "Z4P4Lr0Kt7UG",
      "metadata": {
        "id": "Z4P4Lr0Kt7UG"
      },
      "source": [
        "# Catboost"
      ]
    },
    {
      "cell_type": "code",
      "execution_count": 20,
      "id": "N1Y_LG40fe-h",
      "metadata": {
        "id": "N1Y_LG40fe-h"
      },
      "outputs": [],
      "source": [
        "from catboost import CatBoostRegressor, CatBoostClassifier, metrics\n",
        "from scipy import stats\n",
        "from catboost import Pool\n",
        "import seaborn as sns\n",
        "\n",
        "from sklearn.model_selection import KFold\n",
        "from sklearn.metrics import roc_auc_score, log_loss"
      ]
    },
    {
      "cell_type": "code",
      "execution_count": 23,
      "id": "6qmhZGPu3rqs",
      "metadata": {
        "id": "6qmhZGPu3rqs"
      },
      "outputs": [],
      "source": [
        "def crossValidation(df, x_col, y_col, cvModel, debag=False, **kwargs):\n",
        "    logList = []\n",
        "    aucList = []\n",
        "    i = 1\n",
        "\n",
        "    kf = KFold(n_splits=5, shuffle=True, random_state=42)\n",
        "    for train_idx, val_idx in kf.split(df):\n",
        "        train_part = df.loc[train_idx, :]\n",
        "        val_part = df.loc[val_idx, :]\n",
        "\n",
        "        model = cvModel(random_state=i, **kwargs)\n",
        "        model.fit(X=train_part[x_col], y=train_part[y_col])\n",
        "        val_pred = model.predict_proba(val_part[x_col])\n",
        "\n",
        "        logloss_val = log_loss(val_part[y_col], val_pred)\n",
        "        auc_val = roc_auc_score(val_part[y_col], val_pred[:, 1])\n",
        "\n",
        "        logList.append(logloss_val)\n",
        "        aucList.append(auc_val)\n",
        "\n",
        "        if not debag:\n",
        "            print(f'Fold: {i}, AUC: {auc_val}, LOSS: {logloss_val}')\n",
        "        i += 1\n",
        "    if not debag:\n",
        "        print(f'AV_AUC: {np.mean(aucList)}, AV_LOGLOSS: {np.mean(logList)}')\n",
        "\n",
        "    return np.mean(aucList)"
      ]
    },
    {
      "cell_type": "markdown",
      "id": "Wnri5HGjJDKD",
      "metadata": {
        "id": "Wnri5HGjJDKD"
      },
      "source": [
        "### 0) Подбор параметров по отдельности"
      ]
    },
    {
      "cell_type": "markdown",
      "id": "tqAiFNFQ8yXu",
      "metadata": {
        "id": "tqAiFNFQ8yXu"
      },
      "source": [
        "Первый параметр (learning_rate)"
      ]
    },
    {
      "cell_type": "code",
      "execution_count": null,
      "id": "2srXMQDcTvB-",
      "metadata": {
        "id": "2srXMQDcTvB-"
      },
      "outputs": [],
      "source": [
        "cvLearningRates = []\n",
        "\n",
        "for iterated_value in [0.2, 0.4, 0.6, 0.8, 1.0]:\n",
        "    cvLearningRates.append(crossValidation(train, x_cols, 'TARGET', CatBoostClassifier,\n",
        "                            iterations=100, learning_rate=iterated_value, depth=5, l2_leaf_reg=1))\n",
        "    \n",
        "    classifier = CatBoostClassifier(loss_function=metrics.Logloss(), random_state=42,\n",
        "                            iterations=100, learning_rate=iterated_value, depth=5, l2_leaf_reg=1)\n",
        "    y_score = classifier.fit(train[x_cols], train[\"TARGET\"]).predict_proba(test[x_cols])\n",
        "    sub = pd.read_csv(\"data/raw/sample_submission.csv\")\n",
        "    sub['TARGET'] = y_score[:, 1]\n",
        "    sub.to_csv(f\"prediction_catboost_lr_{iterated_value}.csv\", index=False)"
      ]
    },
    {
      "cell_type": "markdown",
      "id": "2f6dc03a",
      "metadata": {},
      "source": [
        "-> 99: learn: 0.2395527 total: 910 ms remaining: 0us"
      ]
    },
    {
      "cell_type": "markdown",
      "id": "2NRdtetTJR-q",
      "metadata": {
        "id": "2NRdtetTJR-q"
      },
      "source": [
        "Второй параметр (depth)"
      ]
    },
    {
      "cell_type": "code",
      "execution_count": null,
      "id": "_sBlmz6sBo2j",
      "metadata": {
        "id": "_sBlmz6sBo2j"
      },
      "outputs": [],
      "source": [
        "cvDepths = []\n",
        "for iterated_value in [5, 6, 7, 8, 9]:\n",
        "    cvDepths.append(crossValidation(train, x_cols, 'TARGET', CatBoostClassifier,\n",
        "                            iterations=100, learning_rate=0.2, depth=iterated_value, l2_leaf_reg=1))\n",
        "    \n",
        "    classifier = CatBoostClassifier(random_state=42,\n",
        "                            iterations=100, learning_rate=0.2, depth=iterated_value, l2_leaf_reg=1)\n",
        "    y_score = classifier.fit(train[x_cols], train[\"TARGET\"]).predict_proba(test[x_cols])\n",
        "    sub = pd.read_csv(\"data/raw/sample_submission.csv\")\n",
        "    sub['TARGET'] = y_score[:, 1]\n",
        "    sub.to_csv(f\"prediction_catboost_dp_{iterated_value}.csv\", index=False)"
      ]
    },
    {
      "cell_type": "markdown",
      "id": "c7d18133",
      "metadata": {},
      "source": [
        "-> 99: learn 0.2386567 total: 1.9s remaining: 0us"
      ]
    },
    {
      "cell_type": "markdown",
      "id": "40L0uABdJTps",
      "metadata": {
        "id": "40L0uABdJTps"
      },
      "source": [
        "Третий параметр (l2-leaf-reg)"
      ]
    },
    {
      "cell_type": "code",
      "execution_count": null,
      "id": "MrYTFrz_B0SA",
      "metadata": {
        "id": "MrYTFrz_B0SA"
      },
      "outputs": [],
      "source": [
        "cvL2s = []\n",
        "for iterated_value in [1, 2, 3, 4, 5]:\n",
        "    cvL2s.append(crossValidation(train, x_cols, 'TARGET', CatBoostClassifier,\n",
        "                            iterations=100, learning_rate=0.2, depth=5, l2_leaf_reg=iterated_value))\n",
        "    \n",
        "    classifier = CatBoostClassifier(random_state=42,\n",
        "                            iterations=100, learning_rate=0.2, depth=5, l2_leaf_reg=iterated_value)\n",
        "    y_score = classifier.fit(train[x_cols], train[\"TARGET\"]).predict_proba(test[x_cols])\n",
        "    sub = pd.read_csv(\"data/raw/sample_submission.csv\")\n",
        "    sub['TARGET'] = y_score[:, 1]\n",
        "    sub.to_csv(f\"prediction_catboost_l2_{iterated_value}.csv\", index=False)"
      ]
    },
    {
      "cell_type": "markdown",
      "id": "716619ed",
      "metadata": {},
      "source": [
        "-> 99: learn: 0.2460841 total: 876ms remaining: 0us"
      ]
    },
    {
      "cell_type": "markdown",
      "id": "gWNmgVvbNXH4",
      "metadata": {
        "id": "gWNmgVvbNXH4"
      },
      "source": [
        "Submission results"
      ]
    },
    {
      "cell_type": "code",
      "execution_count": 35,
      "id": "WRy6b94iLP9z",
      "metadata": {
        "id": "WRy6b94iLP9z"
      },
      "outputs": [],
      "source": [
        "subLearningRates = [0.75264,0.75342,0.75703,0.74988,0.74806]"
      ]
    },
    {
      "cell_type": "code",
      "execution_count": 36,
      "id": "90b2jtQwMPMz",
      "metadata": {
        "id": "90b2jtQwMPMz"
      },
      "outputs": [],
      "source": [
        "subDepths = [0.75264,0.75554,0.75683,0.75503,0.75399]"
      ]
    },
    {
      "cell_type": "code",
      "execution_count": 37,
      "id": "iQAtQFlyNNZJ",
      "metadata": {
        "id": "iQAtQFlyNNZJ"
      },
      "outputs": [],
      "source": [
        "subL2s = [0.75264,0.75366,0.75406,0.75248, 0.75465]"
      ]
    },
    {
      "cell_type": "markdown",
      "id": "ENl_zqvvO5AB",
      "metadata": {
        "id": "ENl_zqvvO5AB"
      },
      "source": [
        "### Plotting"
      ]
    },
    {
      "cell_type": "markdown",
      "id": "8C5FCQUUP7a4",
      "metadata": {
        "id": "8C5FCQUUP7a4"
      },
      "source": [
        "learning_rate:"
      ]
    },
    {
      "cell_type": "code",
      "execution_count": 38,
      "id": "2LQCTaBLO4XR",
      "metadata": {
        "colab": {
          "base_uri": "https://localhost:8080/",
          "height": 318
        },
        "id": "2LQCTaBLO4XR",
        "outputId": "ae53a2c3-e894-4561-fe22-2f64cbc42e73"
      },
      "outputs": [
        {
          "data": {
            "text/plain": [
              "Text(0.5, 1.0, 'Обучение рейт')"
            ]
          },
          "execution_count": 38,
          "metadata": {},
          "output_type": "execute_result"
        },
        {
          "data": {
            "image/png": "[encoded data removed]",
            "text/plain": [
              "<Figure size 432x288 with 1 Axes>"
            ]
          },
          "metadata": {},
          "output_type": "display_data"
        }
      ],
      "source": [
        "models = [f'{i}' for i in range(len(cvLearningRates))]\n",
        "\n",
        "df = pd.DataFrame(list(zip(models, cvLearningRates, subLearningRates)), columns=['model', 'CV', 'submit'])\n",
        "\n",
        "ax = df.plot(x='model', y=['CV', 'submit'])\n",
        "ax.set_title(\"Обучение рейт\")"
      ]
    },
    {
      "cell_type": "markdown",
      "id": "RVSpOyEcP-Q6",
      "metadata": {
        "id": "RVSpOyEcP-Q6"
      },
      "source": [
        "depth:"
      ]
    },
    {
      "cell_type": "code",
      "execution_count": 39,
      "id": "J5Pir0eqPj0P",
      "metadata": {
        "colab": {
          "base_uri": "https://localhost:8080/",
          "height": 318
        },
        "id": "J5Pir0eqPj0P",
        "outputId": "29cc2ddb-6b1f-43a9-ef1b-ee8d65eb9e72"
      },
      "outputs": [
        {
          "data": {
            "text/plain": [
              "Text(0.5, 1.0, 'depths')"
            ]
          },
          "execution_count": 39,
          "metadata": {},
          "output_type": "execute_result"
        },
        {
          "data": {
            "image/png": "[encoded data removed]",
            "text/plain": [
              "<Figure size 432x288 with 1 Axes>"
            ]
          },
          "metadata": {},
          "output_type": "display_data"
        }
      ],
      "source": [
        "models = [f'{i}' for i in range(len(cvDepths))]\n",
        "\n",
        "df = pd.DataFrame(list(zip(models, cvDepths, subDepths)), columns=['model', 'CV', 'submit'])\n",
        "\n",
        "ax = df.plot(x='model', y=['CV', 'submit'])\n",
        "ax.set_title(\"depths\")"
      ]
    },
    {
      "cell_type": "markdown",
      "id": "HpdWNKisQCIc",
      "metadata": {
        "id": "HpdWNKisQCIc"
      },
      "source": [
        "l2 coeff:"
      ]
    },
    {
      "cell_type": "code",
      "execution_count": 40,
      "id": "Z0Ae3FeEPIHz",
      "metadata": {
        "colab": {
          "base_uri": "https://localhost:8080/",
          "height": 318
        },
        "id": "Z0Ae3FeEPIHz",
        "outputId": "c69e8504-c556-4070-c917-6fcfb1d99262"
      },
      "outputs": [
        {
          "data": {
            "text/plain": [
              "Text(0.5, 1.0, 'l2_leaf_reg')"
            ]
          },
          "execution_count": 40,
          "metadata": {},
          "output_type": "execute_result"
        },
        {
          "data": {
            "image/png": "[encoded data removed]",
            "text/plain": [
              "<Figure size 432x288 with 1 Axes>"
            ]
          },
          "metadata": {},
          "output_type": "display_data"
        }
      ],
      "source": [
        "models = [f'{i}' for i in range(len(cvL2s))]\n",
        "\n",
        "df = pd.DataFrame(list(zip(models, cvL2s, subL2s)), columns=['model', 'CV', 'submit'])\n",
        "\n",
        "ax = df.plot(x='model', y=['CV', 'submit'])\n",
        "ax.set_title(\"l2_leaf_reg\")"
      ]
    },
    {
      "cell_type": "markdown",
      "id": "lSLIGZSOQEa5",
      "metadata": {
        "id": "lSLIGZSOQEa5"
      },
      "source": [
        "### Выводы по пункту 0\n",
        "\n",
        "1) Переобучение имело место быть при варьировании learning_rate и depth, но оно было не очень сильным и все равно можно увидеть оптимальное значение.\n",
        "\n",
        "2) изменение параметра l2_leaf_reg не оказывает эффекта на результат. Изменение значений метрики больше похоже на погрешность\n",
        "\n",
        "* возможно нужно было увеличить количество значений проверяемых"
      ]
    },
    {
      "cell_type": "markdown",
      "id": "BhBJccdfS8F0",
      "metadata": {
        "id": "BhBJccdfS8F0"
      },
      "source": [
        "### 1) GridSearchCV и RandomizedSearchCV"
      ]
    },
    {
      "cell_type": "markdown",
      "id": "792Honv_adrH",
      "metadata": {
        "id": "792Honv_adrH"
      },
      "source": [
        "grid search"
      ]
    },
    {
      "cell_type": "code",
      "execution_count": 41,
      "id": "Gpai8ZxOTuMT",
      "metadata": {
        "id": "Gpai8ZxOTuMT"
      },
      "outputs": [],
      "source": [
        "model = CatBoostClassifier(iterations=100)"
      ]
    },
    {
      "cell_type": "code",
      "execution_count": null,
      "id": "AxDqr0XoS5bJ",
      "metadata": {
        "id": "AxDqr0XoS5bJ"
      },
      "outputs": [],
      "source": [
        "grid = {\n",
        "    'learning_rate': [0.2, 0.5, 0.7],\n",
        "    'depth':[3, 6, 9],\n",
        "    'l2_leaf_reg': [1, 2, 3]\n",
        "}\n",
        "grid_search_results = model.grid_search(grid, train[x_cols], train[\"TARGET\"], shuffle=False, verbose=0, plot=True)"
      ]
    },
    {
      "cell_type": "markdown",
      "id": "d918fd53",
      "metadata": {},
      "source": [
        "-> 99: learn: 0.2447161 test: 0.2475482\tbest: 0.2475482 (99)\ttotal: 911ms\tremaining: 0us\n",
        "\n",
        "bestTest: 0.247548157\n",
        "bestIteration: 99"
      ]
    },
    {
      "cell_type": "code",
      "execution_count": 44,
      "id": "nnh1ETTyT0eW",
      "metadata": {
        "colab": {
          "base_uri": "https://localhost:8080/"
        },
        "id": "nnh1ETTyT0eW",
        "outputId": "8fe606ef-3cba-495e-c065-4407813d53cc"
      },
      "outputs": [
        {
          "data": {
            "text/plain": [
              "{'depth': 3, 'l2_leaf_reg': 2, 'learning_rate': 0.5}"
            ]
          },
          "execution_count": 44,
          "metadata": {},
          "output_type": "execute_result"
        }
      ],
      "source": [
        "grid_search_results['params']"
      ]
    },
    {
      "cell_type": "markdown",
      "id": "eSPcaByUag5v",
      "metadata": {
        "id": "eSPcaByUag5v"
      },
      "source": [
        "randomized search"
      ]
    },
    {
      "cell_type": "code",
      "execution_count": 45,
      "id": "5gkAnf9XaYIR",
      "metadata": {
        "id": "5gkAnf9XaYIR"
      },
      "outputs": [],
      "source": [
        "model = CatBoostClassifier(iterations=100)"
      ]
    },
    {
      "cell_type": "code",
      "execution_count": null,
      "id": "_otyelYFTTGg",
      "metadata": {
        "id": "_otyelYFTTGg"
      },
      "outputs": [],
      "source": [
        "param_distribution = {\n",
        "    'learning_rate': stats.uniform(0.3, 0.8),\n",
        "    'depth': stats.bernoulli(p=0.2, loc=10),\n",
        "    'l2_leaf_reg': stats.binom(n=2, p=0.2)\n",
        "}\n",
        "\n",
        "randomized_search_results = model.randomized_search(\n",
        "    param_distribution,\n",
        "    train[x_cols], train[\"TARGET\"],\n",
        "    n_iter=4,\n",
        "    shuffle=False,\n",
        "    search_by_train_test_split=False,\n",
        "    verbose=0,\n",
        "    plot=True\n",
        ")"
      ]
    },
    {
      "cell_type": "markdown",
      "id": "d27401ab",
      "metadata": {},
      "source": [
        "bestIteration = 15\n",
        "\n",
        "Training on fold [0/3]\n",
        "\n",
        "-> 0:\tlearn: 0.2618995\ttest: 0.2638176\tbest: 0.2638176 (0)\ttotal: 50.4ms\tremaining: 4.99s\n",
        "\n",
        "-> 1:\tlearn: 0.2522402\ttest: 0.2586217\tbest: 0.2586217 (1)\ttotal: 107ms\tremaining: 5.24s\n",
        "\n",
        "learning rate is greater than 1. You probably need to decrease learning rate.\n",
        "\n",
        "learning rate is greater than 1. You probably need to decrease learning rate.\n",
        "\n",
        "\n",
        "\n",
        "99:\tlearn: 0.1868161\ttest: 6395812442601980.0000000\tbest: 0.2574245 (9)\ttotal: 2.66s\tremaining: 0us\n",
        "\n",
        "bestTest = 0.2574244936\n",
        "bestIteration = 9"
      ]
    },
    {
      "cell_type": "code",
      "execution_count": 47,
      "id": "yWnU5pSYTwuM",
      "metadata": {
        "colab": {
          "base_uri": "https://localhost:8080/"
        },
        "id": "yWnU5pSYTwuM",
        "outputId": "71977acc-b219-41cf-8a40-ca8c9eb03ccf"
      },
      "outputs": [
        {
          "data": {
            "text/plain": [
              "{'depth': 10.0, 'learning_rate': 0.3013830452079781, 'l2_leaf_reg': 1.0}"
            ]
          },
          "execution_count": 47,
          "metadata": {},
          "output_type": "execute_result"
        }
      ],
      "source": [
        "randomized_search_results['params']"
      ]
    },
    {
      "cell_type": "markdown",
      "id": "iviSCv0FQlct",
      "metadata": {
        "id": "iviSCv0FQlct"
      },
      "source": [
        "### Выводы по пункту 1\n",
        "\n",
        "1) Грид серч: {'depth': 3, 'l2_leaf_reg': 2, 'learning_rate': 0.5}\n",
        "\n",
        "2) Рандомайзд серч: {'depth': 10.0, 'l2_leaf_reg': 1.0, 'learning_rate': 0.3013830452079781}"
      ]
    },
    {
      "cell_type": "markdown",
      "id": "gpmxm2UHt8BW",
      "metadata": {
        "id": "gpmxm2UHt8BW"
      },
      "source": [
        "### 2) Feature importance"
      ]
    },
    {
      "cell_type": "code",
      "execution_count": 48,
      "id": "OpqrUCsTcjut",
      "metadata": {
        "id": "OpqrUCsTcjut"
      },
      "outputs": [],
      "source": [
        "train_pool = Pool(train[x_cols], train[\"TARGET\"])"
      ]
    },
    {
      "cell_type": "code",
      "execution_count": 49,
      "id": "9qWOzDpzbnw9",
      "metadata": {
        "id": "9qWOzDpzbnw9"
      },
      "outputs": [],
      "source": [
        "model = CatBoostClassifier(**randomized_search_results['params'],\n",
        "                iterations=1, random_seed=42, logging_level='Silent').fit(train_pool)\n",
        "feature_importances = model.get_feature_importance(train_pool)\n",
        "feature_names = x_cols"
      ]
    },
    {
      "cell_type": "code",
      "execution_count": 51,
      "id": "z6hdwB2PdeOn",
      "metadata": {
        "colab": {
          "base_uri": "https://localhost:8080/",
          "height": 301
        },
        "id": "z6hdwB2PdeOn",
        "outputId": "68191a2e-4d9a-4fa7-b210-b75a0213dfea"
      },
      "outputs": [
        {
          "data": {
            "text/plain": [
              "Text(0.5, 1.0, 'feature_importance')"
            ]
          },
          "execution_count": 51,
          "metadata": {},
          "output_type": "execute_result"
        },
        {
          "data": {
            "image/png": "[encoded data removed]",
            "text/plain": [
              "<Figure size 432x288 with 1 Axes>"
            ]
          },
          "metadata": {},
          "output_type": "display_data"
        }
      ],
      "source": [
        "ax = sns.barplot(x=feature_importances, y=feature_names)\n",
        "ax.set_title(\"feature_importance\")"
      ]
    },
    {
      "cell_type": "markdown",
      "id": "4dAq6qCidpYS",
      "metadata": {
        "id": "4dAq6qCidpYS"
      },
      "source": [
        "### Выводы по пункту 2\n",
        "\n",
        "1) ANNUITY_DIV_INCOME, DAYS_REGISTRATION, PAY_YEARS, EXT_2, EXT_3 - в порядке возрастания значимости"
      ]
    }
  ],
  "metadata": {
    "colab": {
      "name": "hw31",
      "provenance": []
    },
    "interpreter": {
      "hash": "aee8b7b246df8f9039afb4144a1f6fd8d2ca17a180786b69acc140d282b71a49"
    },
    "kernelspec": {
      "display_name": "Python 3.9.7 64-bit",
      "name": "python3"
    },
    "language_info": {
      "codemirror_mode": {
        "name": "ipython",
        "version": 3
      },
      "file_extension": ".py",
      "mimetype": "text/x-python",
      "name": "python",
      "nbconvert_exporter": "python",
      "pygments_lexer": "ipython3",
      "version": "3.9.7"
    }
  },
  "nbformat": 4,
  "nbformat_minor": 5
}
